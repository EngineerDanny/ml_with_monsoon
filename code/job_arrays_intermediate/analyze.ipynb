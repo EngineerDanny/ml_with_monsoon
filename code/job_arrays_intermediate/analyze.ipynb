{
 "cells": [
  {
   "cell_type": "code",
   "execution_count": 32,
   "metadata": {},
   "outputs": [],
   "source": [
    "# combines the results for each parameter combination into a single result for analysis/plotting.\n",
    "import pandas as pd\n",
    "from glob import glob\n",
    "\n",
    "date_time = \"2023-11-17_15:56\"\n",
    "out_df_list = []\n",
    "for out_csv in glob(f\"/scratch/da2343/ml_project_3_{date_time}/results/*.csv\"):\n",
    "    out_df_list.append(pd.read_csv(out_csv))\n",
    "timing_df = pd.concat(out_df_list)"
   ]
  },
  {
   "cell_type": "code",
   "execution_count": 33,
   "metadata": {},
   "outputs": [],
   "source": [
    "timing_df = timing_df[(timing_df[\"algorithm\"] == \"KNeighborsClassifier\") & (timing_df[\"dataset_name\"] == \"zip\")]\n",
    "timing_df = timing_df[[\"n_rows\", \"mean_time\", \"std_time\", \"type\" ]]\n",
    "timing_df\n",
    "# save to csv\n",
    "timing_df.to_csv(f\"/projects/genomic-ml/da2343/ml_project_3/code/job_arrays_intermediate/parallel_n_row_time_df.csv\", index=False)"
   ]
  }
 ],
 "metadata": {
  "kernelspec": {
   "display_name": "cs685",
   "language": "python",
   "name": "python3"
  },
  "language_info": {
   "codemirror_mode": {
    "name": "ipython",
    "version": 3
   },
   "file_extension": ".py",
   "mimetype": "text/x-python",
   "name": "python",
   "nbconvert_exporter": "python",
   "pygments_lexer": "ipython3",
   "version": "3.9.16"
  }
 },
 "nbformat": 4,
 "nbformat_minor": 2
}
